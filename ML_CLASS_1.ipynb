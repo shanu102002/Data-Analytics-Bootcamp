{
  "nbformat": 4,
  "nbformat_minor": 0,
  "metadata": {
    "colab": {
      "provenance": []
    },
    "kernelspec": {
      "name": "python3",
      "display_name": "Python 3"
    },
    "language_info": {
      "name": "python"
    }
  },
  "cells": [
    {
      "cell_type": "code",
      "execution_count": 1,
      "metadata": {
        "colab": {
          "base_uri": "https://localhost:8080/"
        },
        "id": "4n_Ohj19nOU4",
        "outputId": "3d07ba19-806e-40f6-eef8-f6064141a05e"
      },
      "outputs": [
        {
          "output_type": "stream",
          "name": "stdout",
          "text": [
            "Hello DataYard\n"
          ]
        }
      ],
      "source": [
        "print ('Hello DataYard')"
      ]
    },
    {
      "cell_type": "code",
      "source": [
        "5**2"
      ],
      "metadata": {
        "colab": {
          "base_uri": "https://localhost:8080/"
        },
        "id": "Q6t08qfkow6a",
        "outputId": "60cf37ae-6164-492d-e45c-ef7c513781e2"
      },
      "execution_count": 2,
      "outputs": [
        {
          "output_type": "execute_result",
          "data": {
            "text/plain": [
              "25"
            ]
          },
          "metadata": {},
          "execution_count": 2
        }
      ]
    },
    {
      "cell_type": "code",
      "source": [],
      "metadata": {
        "id": "YoMAUAVSpVgI"
      },
      "execution_count": null,
      "outputs": []
    },
    {
      "cell_type": "markdown",
      "source": [
        "(*) For Multiplication\n",
        "(**) for Power\n",
        "+,-,/ Basic Operands"
      ],
      "metadata": {
        "id": "HPqi__4-pi2m"
      }
    },
    {
      "cell_type": "code",
      "source": [
        "print(2-5)"
      ],
      "metadata": {
        "colab": {
          "base_uri": "https://localhost:8080/"
        },
        "id": "XtY-rHLypzOh",
        "outputId": "05e58080-7bc1-4ff9-9f11-3907e18f1e18"
      },
      "execution_count": 3,
      "outputs": [
        {
          "output_type": "stream",
          "name": "stdout",
          "text": [
            "-3\n"
          ]
        }
      ]
    },
    {
      "cell_type": "code",
      "source": [
        "principal = 100\n",
        "rate = 0.1\n",
        "num_years = 7\n",
        "\n",
        "amount = principal * (1 + rate) ** num_years\n",
        "\n",
        "print(f\"After {num_years} years, you will have {amount:.2f} dollars.\")\n"
      ],
      "metadata": {
        "colab": {
          "base_uri": "https://localhost:8080/"
        },
        "id": "VtAmk5uqp5kV",
        "outputId": "53ec026d-16ae-42b8-f1f8-3c6db5ae3ef8"
      },
      "execution_count": 5,
      "outputs": [
        {
          "output_type": "stream",
          "name": "stdout",
          "text": [
            "After 7 years, you will have 194.87 dollars.\n"
          ]
        }
      ]
    },
    {
      "cell_type": "code",
      "source": [
        "items= 10\n",
        "price = 2\n",
        "returned= 3\n",
        "net_items= items-returned\n",
        "print('My remianing items are:', net_items)\n"
      ],
      "metadata": {
        "colab": {
          "base_uri": "https://localhost:8080/"
        },
        "id": "uAvZcsdksFIq",
        "outputId": "44096a86-5bf5-4237-d37d-0efca844585e"
      },
      "execution_count": 7,
      "outputs": [
        {
          "output_type": "stream",
          "name": "stdout",
          "text": [
            "My remianing items are: 7\n"
          ]
        }
      ]
    },
    {
      "cell_type": "code",
      "source": [
        "var1 = 'first sent'  # saving in variable\n",
        "var2 = 'second sent'  # saving in variable\n",
        "print(var1, var2, 'third variable')  # Directly printing third variable with var1 and var2\n"
      ],
      "metadata": {
        "colab": {
          "base_uri": "https://localhost:8080/"
        },
        "id": "S_aSxcu9thjl",
        "outputId": "c08136e5-59ac-45c5-fb15-60b0170be6dc"
      },
      "execution_count": 15,
      "outputs": [
        {
          "output_type": "stream",
          "name": "stdout",
          "text": [
            "first sent second sent third variable\n"
          ]
        }
      ]
    },
    {
      "cell_type": "code",
      "source": [
        "age = 22\n",
        "print(f\"This person is {age} years old.\")"
      ],
      "metadata": {
        "id": "b8oQxmzAu57S"
      },
      "execution_count": null,
      "outputs": []
    },
    {
      "cell_type": "code",
      "source": [
        "# prompt: # Write three strings, set two of them as variables 'first_sent' and \"second_sent\"\n",
        "\n",
        "first_sent = 'I have\\n'\n",
        "second_sent = 'Done\\n'\n",
        "print(first_sent, second_sent, 'Cheers!')\n"
      ],
      "metadata": {
        "colab": {
          "base_uri": "https://localhost:8080/"
        },
        "id": "OtCW3MYDvw0X",
        "outputId": "efc14161-8a38-498d-e2d8-5af37f9c4490"
      },
      "execution_count": 20,
      "outputs": [
        {
          "output_type": "stream",
          "name": "stdout",
          "text": [
            "I have\n",
            " Done\n",
            " Cheers!\n"
          ]
        }
      ]
    },
    {
      "cell_type": "code",
      "source": [
        "x=4 # = for assigning\n",
        "2==2 # == for equivalence"
      ],
      "metadata": {
        "colab": {
          "base_uri": "https://localhost:8080/"
        },
        "id": "PwsV-ZaGx0q8",
        "outputId": "2ac7f250-59fb-418b-ce89-af736956042d"
      },
      "execution_count": 21,
      "outputs": [
        {
          "output_type": "execute_result",
          "data": {
            "text/plain": [
              "True"
            ]
          },
          "metadata": {},
          "execution_count": 21
        }
      ]
    },
    {
      "cell_type": "code",
      "source": [],
      "metadata": {
        "id": "cuxIwMmvylb1"
      },
      "execution_count": null,
      "outputs": []
    }
  ]
}